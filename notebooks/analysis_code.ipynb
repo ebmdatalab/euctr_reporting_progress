{
 "cells": [
  {
   "cell_type": "code",
   "execution_count": null,
   "metadata": {},
   "outputs": [],
   "source": [
    "import matplotlib.pyplot as plt\n",
    "import pandas as pd\n",
    "from lib.functions import *"
   ]
  },
  {
   "cell_type": "code",
   "execution_count": null,
   "metadata": {},
   "outputs": [],
   "source": [
    "import os\n",
    "import sys\n",
    "from pathlib import Path\n",
    "cwd = os.getcwd()\n",
    "parent = str(Path(cwd).parents[0])\n",
    "sys.path.append(parent)"
   ]
  },
  {
   "cell_type": "markdown",
   "metadata": {},
   "source": [
    "# Creating Figure 1"
   ]
  },
  {
   "cell_type": "code",
   "execution_count": null,
   "metadata": {},
   "outputs": [],
   "source": [
    "#This data is simple and small enough that we can enter it by hand\n",
    "\n",
    "dates = ['Jan 2018', 'August 2018', 'Sept 2018', 'Nov 2018', 'Dec 2018', 'Jan 2019', 'Feb 2019', \n",
    "         'Mar 2019', 'Apr 2019', 'May 2019', 'Jun 2019', 'Jul 2019', 'Aug 2019', 'Sep 2019', 'Oct 2019', \n",
    "         'Nov 2019', 'Dec 2019', 'Jan 2020', 'Feb 2020', 'Mar 2020', 'Apr 2020', 'May 2020', 'Jun 2020', \n",
    "         'Jul 2020', 'Aug 2020', 'Sep 2020', 'Oct 2020', 'Nov 2020', 'Dec 2020', 'Jan 2021', 'Feb 2021', \n",
    "         'Mar 2021', 'Apr 2021', 'May 2021']\n",
    "\n",
    "months = [0] + list(range(7,40))\n",
    "\n",
    "reporting = [49.6, 51.1, 51.2, 51.4, 51.9, 52.8, 53.6, 54.1, 55.1, 56.4, 57.2, 58, 60.2, 61.2, 61.5, 61.8, 62.5, \n",
    "             63.2, 64, 64.9, 66, 66.2, 66.4, 66.6, 66.3, 66.8, 67.2, 67.9, 68.1, 68.8, 68.9, 69.6, 70.2, 70.2]"
   ]
  },
  {
   "cell_type": "code",
   "execution_count": null,
   "metadata": {},
   "outputs": [],
   "source": [
    "#sanity check\n",
    "len(dates) == len(reporting)"
   ]
  },
  {
   "cell_type": "code",
   "execution_count": null,
   "metadata": {},
   "outputs": [],
   "source": [
    "tstamps = []\n",
    "for d in dates:\n",
    "    tstamps.append(pd.Timestamp(d))\n",
    "    \n",
    "r_dict = dict(zip(months, reporting))"
   ]
  },
  {
   "cell_type": "code",
   "execution_count": null,
   "metadata": {
    "lines_to_next_cell": 0
   },
   "outputs": [],
   "source": [
    "fig, ax = plt.subplots(figsize = (18,8), dpi=300)\n",
    "\n",
    "pd.Series(r_dict).plot(lw=4, marker='.', markersize=13, grid=True, ax=ax)\n",
    "\n",
    "ax.set_yticks(range(0,90, 10))\n",
    "ax.tick_params(axis='both', labelsize=17)\n",
    "\n",
    "#Optional annotations\n",
    "#ax.annotate('EU TrialsTracker\\nLaunched', xy=('2018-09-12', 51), xytext=(pd.Timestamp('2018-09-12'),60), \n",
    "#            arrowprops=dict(arrowstyle=\"->\", connectionstyle=\"arc3\"))\n",
    "\n",
    "#ax.annotate('UK Parliment\\nSends Letters', xy=('2019-01-24', 53), xytext=(pd.Timestamp('2019-02-01'),40), \n",
    "#            arrowprops=dict(arrowstyle=\"->\", connectionstyle=\"arc3\"))\n",
    "\n",
    "#ax.annotate('EC/EMA/HMA Joint Letter', xy=('2019-06-01', 57), xytext=(pd.Timestamp('2019-06-10'),70), \n",
    "#            arrowprops=dict(arrowstyle=\"->\", connectionstyle=\"arc3\"))\n",
    "\n",
    "plt.ylabel('Percent of Due Trials Reported', fontsize=20, labelpad=10)\n",
    "plt.title('Trend in Results Reporting to the EU-CTR Over Time', pad=10, fontsize=24)\n",
    "plt.xticks([0,5,10,15,20,25,30,35,40],\n",
    "          ['Jan 2018', 'Jun 2018', 'Nov 2018', 'Apr 2019', 'Sep 2019', 'Feb 2020', 'Jul 2020', 'Dec 2020', 'May 2021'])\n",
    "\n",
    "counter = 0\n",
    "annotations = [0, 4, 9, 14, 19, 24, 29, 33]\n",
    "for a, b in zip(r_dict.keys(), r_dict.values()):\n",
    "    if counter in annotations:\n",
    "        ax.annotate(b, (a-.425, b-4), fontsize=18)\n",
    "        counter+=1\n",
    "    else:\n",
    "        counter+=1\n",
    "        continue\n",
    "    \n",
    "    #if counter == 0:\n",
    "    #    ax.annotate(b, (a-.4, b-3.2), fontsize=12)\n",
    "    #    counter += 1\n",
    "    #else:\n",
    "    #    ax.annotate(b, (a-.4, b+2), fontsize=12)\n",
    "    #    counter -= 1\n",
    "        \n",
    "\n",
    "plt.show()\n",
    "#plt.savefig(parent + '/data/euctr_trends.tiff')"
   ]
  },
  {
   "cell_type": "markdown",
   "metadata": {
    "lines_to_next_cell": 2
   },
   "source": [
    "# Making the May 2021 Datasets"
   ]
  },
  {
   "cell_type": "code",
   "execution_count": null,
   "metadata": {},
   "outputs": [],
   "source": [
    "#This is the raw data by trial for the EU TrialsTracker from May 2021 drawn directly from GitHub\n",
    "df = pd.read_json('https://raw.githubusercontent.com/ebmdatalab/euctr-tracker-data/ae46ca2cfb8918962083b01482c3e8a0b39251f3/all_trials.json')"
   ]
  },
  {
   "cell_type": "code",
   "execution_count": null,
   "metadata": {},
   "outputs": [],
   "source": [
    "#Only the columns we need\n",
    "cols = ['trial_id', \n",
    "        'results_expected', \n",
    "        'has_results', \n",
    "        'exempt', \n",
    "        'normalized_name', \n",
    "        'comp_date_while_ongoing', \n",
    "        'all_completed_no_comp_date', \n",
    "        'contains_non_eu', \n",
    "        'trial_status']\n",
    "\n",
    "df2 = df[cols].reset_index(drop=True)"
   ]
  },
  {
   "cell_type": "markdown",
   "metadata": {},
   "source": [
    "# Country Comparisons"
   ]
  },
  {
   "cell_type": "code",
   "execution_count": null,
   "metadata": {
    "lines_to_next_cell": 0
   },
   "outputs": [],
   "source": [
    "#This is the list of sponsors for the country analysis\n",
    "spons_by_country = pd.read_excel(parent + '/data/sponsors_lists.xlsx', sheet_name='nc_sponsors_country')"
   ]
  },
  {
   "cell_type": "code",
   "execution_count": null,
   "metadata": {
    "lines_to_next_cell": 2
   },
   "outputs": [],
   "source": [
    "#This is the raw dataset for the sponsors by country\n",
    "spon_country_final = spons_by_country.merge(pd.DataFrame(get_stats(df2, spons_by_country.sponsor_name.to_list())), on='sponsor_name')"
   ]
  },
  {
   "cell_type": "code",
   "execution_count": null,
   "metadata": {},
   "outputs": [],
   "source": [
    "#Test to make sure sponsor name joining worked.\n",
    "sanity_check(spon_country_final, \"total_registered\", 0)"
   ]
  },
  {
   "cell_type": "code",
   "execution_count": null,
   "metadata": {},
   "outputs": [],
   "source": [
    "#How many are in the sample\n",
    "print(f'There are {spon_country_final.total_registered.sum()} trials in this population.')\n",
    "print(f'{spon_country_final.due.sum()} are due, and {spon_country_final.due_reported.sum()} are due and reported')"
   ]
  },
  {
   "cell_type": "code",
   "execution_count": null,
   "metadata": {},
   "outputs": [],
   "source": [
    "#Can check individual country grouping here by changing the string\n",
    "spon_country_final[spon_country_final.country == 'France']"
   ]
  },
  {
   "cell_type": "markdown",
   "metadata": {},
   "source": [
    "# Table 1"
   ]
  },
  {
   "cell_type": "code",
   "execution_count": null,
   "metadata": {},
   "outputs": [],
   "source": [
    "table_1 = spon_country_final[['country', 'total_registered', 'due', 'due_reported']].groupby('country').sum()\n",
    "table_1['due_reported_prct'] = round((table_1['due_reported']/table_1['due'])*100,2)\n",
    "table_1"
   ]
  },
  {
   "cell_type": "markdown",
   "metadata": {},
   "source": [
    "# Table 2"
   ]
  },
  {
   "cell_type": "code",
   "execution_count": null,
   "metadata": {},
   "outputs": [],
   "source": [
    "table_2 = spon_country_final[['country', 'total_registered', 'inconsistent_data', 'comp_ongoing', 'missing_comp', 'contains_non_eu', 'missing_status', 'inconsistent_w_results']].groupby('country').sum()"
   ]
  },
  {
   "cell_type": "code",
   "execution_count": null,
   "metadata": {},
   "outputs": [],
   "source": [
    "table_2['inconsistent_data_prct'] = round((table_2['inconsistent_data']/table_2['total_registered']) * 100,2)\n",
    "table_2['comp_ongoing_prct'] = round((table_2['comp_ongoing']/table_2['inconsistent_data'])*100,2)\n",
    "table_2['missing_comp_prct'] = round((table_2['missing_comp']/table_2['inconsistent_data'])*100,2)\n",
    "table_2['contains_non_eu_prct'] = round((table_2['contains_non_eu']/table_2['inconsistent_data'])*100,2)\n",
    "table_2['missing_status_prct'] = round((table_2['missing_status']/table_2['inconsistent_data'])*100,2)\n",
    "table_2['inconsistent_w_results_prct'] = round((table_2['inconsistent_w_results']/table_2['inconsistent_data'])*100,2)"
   ]
  },
  {
   "cell_type": "code",
   "execution_count": null,
   "metadata": {},
   "outputs": [],
   "source": [
    "table_2 = table_2[['total_registered', 'inconsistent_data', 'inconsistent_data_prct', 'comp_ongoing', 'comp_ongoing_prct', 'missing_comp', 'missing_comp_prct', 'contains_non_eu', 'contains_non_eu_prct', 'missing_status', 'missing_status_prct', 'inconsistent_w_results', 'inconsistent_w_results_prct']]"
   ]
  },
  {
   "cell_type": "code",
   "execution_count": null,
   "metadata": {},
   "outputs": [],
   "source": [
    "table_2"
   ]
  },
  {
   "cell_type": "code",
   "execution_count": null,
   "metadata": {},
   "outputs": [],
   "source": [
    "print(f'Total Inconsistencies: {table_2.inconsistent_data.sum()}')\n",
    "print(f'Completed & Ongoing: {table_2.comp_ongoing.sum()}')\n",
    "print(f'Missing Completion Date: {table_2.missing_comp.sum()}')\n",
    "print(f'Non-EU Location: {table_2.contains_non_eu.sum()}')\n",
    "print(f'Missing Status: {table_2.missing_status.sum()}')\n",
    "print(f'Iconsistent with Results: {table_2.inconsistent_w_results.sum()}')"
   ]
  },
  {
   "cell_type": "markdown",
   "metadata": {},
   "source": [
    "# Commercial Sponsors"
   ]
  },
  {
   "cell_type": "code",
   "execution_count": null,
   "metadata": {},
   "outputs": [],
   "source": [
    "#Loading in the commercial sponsor names\n",
    "\n",
    "comm_spons = pd.read_excel(parent + '/data/sponsors_lists.xlsx', sheet_name='comm_sponsors')"
   ]
  },
  {
   "cell_type": "code",
   "execution_count": null,
   "metadata": {},
   "outputs": [],
   "source": [
    "comm_spons_final = comm_spons.merge(pd.DataFrame(get_stats(df2, comm_spons.sponsor_name.to_list())), on='sponsor_name')"
   ]
  },
  {
   "cell_type": "markdown",
   "metadata": {},
   "source": [
    "# 2021 Major Sponsors Comparison Data "
   ]
  },
  {
   "cell_type": "code",
   "execution_count": null,
   "metadata": {},
   "outputs": [],
   "source": [
    "#getting 2018 major spsonsors comparison data\n",
    "\n",
    "compare_2021 = pd.read_excel(parent + '/data/sponsors_lists.xlsx', sheet_name='sponsor_compare')"
   ]
  },
  {
   "cell_type": "code",
   "execution_count": null,
   "metadata": {},
   "outputs": [],
   "source": [
    "compare_final = compare_2021.merge(pd.DataFrame(get_stats(df2, compare_2021.sponsor_name.to_list())), on='sponsor_name')\n",
    "\n",
    "total_2021 = compare_final[['grouped_name', 'total_registered', 'due', 'due_reported']].groupby('grouped_name').sum().reset_index()\n",
    "\n",
    "total_2021['reported_prct'] = round((total_2021.due_reported / total_2021.due) * 100, 2)\n",
    "\n",
    "total_2021 = total_2021.merge(compare_final[['grouped_name', 'country']].groupby('grouped_name', as_index=False).max(), how='left', on='grouped_name')"
   ]
  },
  {
   "cell_type": "code",
   "execution_count": null,
   "metadata": {},
   "outputs": [],
   "source": [
    "total_2018 = pd.read_excel(parent + '/data/sponsors_lists.xlsx', sheet_name='2018_data')"
   ]
  },
  {
   "cell_type": "markdown",
   "metadata": {},
   "source": [
    "# Data for Table 3"
   ]
  },
  {
   "cell_type": "code",
   "execution_count": null,
   "metadata": {},
   "outputs": [],
   "source": [
    "table_3 = total_2018.merge(total_2021, how='left', left_on='2021_name', right_on='grouped_name', suffixes = ['_2018', '_2021'])"
   ]
  },
  {
   "cell_type": "code",
   "execution_count": null,
   "metadata": {},
   "outputs": [],
   "source": [
    "#Limiting Reporting to the Median and below\n",
    "table_3[table_3.reported_prct <= 43.33].head()"
   ]
  },
  {
   "cell_type": "code",
   "execution_count": null,
   "metadata": {},
   "outputs": [],
   "source": [
    "table_3[table_3.country_2021 == 'UK']"
   ]
  },
  {
   "cell_type": "markdown",
   "metadata": {},
   "source": [
    "# Table 4"
   ]
  },
  {
   "cell_type": "code",
   "execution_count": null,
   "metadata": {},
   "outputs": [],
   "source": [
    "#2018 numbers\n",
    "\n",
    "table4_2018 = total_2018[['country', 'due', 'due_reported']].groupby('country').agg({'due':['count', 'sum'], 'due_reported':['sum']})\n",
    "table4_2018['reported_prct'] = round((table4_2018['due_reported']['sum'] / table4_2018['due']['sum']) * 100,2)"
   ]
  },
  {
   "cell_type": "code",
   "execution_count": null,
   "metadata": {},
   "outputs": [],
   "source": [
    "table4_2018"
   ]
  },
  {
   "cell_type": "code",
   "execution_count": null,
   "metadata": {},
   "outputs": [],
   "source": [
    "#2021 numbers\n",
    "table4_2021 = total_2021[['country', 'due', 'due_reported']].groupby('country').agg({'due':['count', 'sum'], 'due_reported':['sum']})\n",
    "table4_2021['reported_prct'] = round((table4_2021['due_reported']['sum'] / table4_2021['due']['sum']) * 100,2)"
   ]
  },
  {
   "cell_type": "code",
   "execution_count": null,
   "metadata": {},
   "outputs": [],
   "source": [
    "table4_2021"
   ]
  },
  {
   "cell_type": "markdown",
   "metadata": {},
   "source": [
    "# Table 5 - High performers"
   ]
  },
  {
   "cell_type": "code",
   "execution_count": null,
   "metadata": {},
   "outputs": [],
   "source": [
    "#Highest Overall Reporting %\n",
    "total_2021.sort_values(by='reported_prct', ascending=False).head(6)"
   ]
  },
  {
   "cell_type": "code",
   "execution_count": null,
   "metadata": {},
   "outputs": [],
   "source": [
    "#Highest absolute number of trials reported\n",
    "total_2021.sort_values(by='due_reported', ascending=False).head(6)"
   ]
  },
  {
   "cell_type": "code",
   "execution_count": null,
   "metadata": {},
   "outputs": [],
   "source": [
    "#Biggest increase in reporting %\n",
    "increase_df = table_3[['sponsor_name', 'due_reported_prct', 'reported_prct']].reset_index(drop=True)\n",
    "increase_df['delta'] = (increase_df['due_reported_prct'] - increase_df['reported_prct']) * -1"
   ]
  },
  {
   "cell_type": "code",
   "execution_count": null,
   "metadata": {},
   "outputs": [],
   "source": [
    "increase_df.sort_values(by='delta', ascending=False).head(6)"
   ]
  },
  {
   "cell_type": "code",
   "execution_count": null,
   "metadata": {},
   "outputs": [],
   "source": [
    "#Biggest increase in abolsute trials reported"
   ]
  },
  {
   "cell_type": "code",
   "execution_count": null,
   "metadata": {},
   "outputs": [],
   "source": [
    "increase_df_count = table_3[['sponsor_name', 'due_reported_2021', 'due_reported_2018']].reset_index(drop=True)\n",
    "increase_df_count['delta'] = (increase_df_count['due_reported_2021'] - increase_df_count['due_reported_2018'])"
   ]
  },
  {
   "cell_type": "code",
   "execution_count": null,
   "metadata": {
    "lines_to_next_cell": 0
   },
   "outputs": [],
   "source": [
    "increase_df_count.sort_values(by='delta', ascending=False).head(6)"
   ]
  },
  {
   "cell_type": "code",
   "execution_count": null,
   "metadata": {},
   "outputs": [],
   "source": []
  },
  {
   "cell_type": "code",
   "execution_count": null,
   "metadata": {},
   "outputs": [],
   "source": []
  },
  {
   "cell_type": "code",
   "execution_count": null,
   "metadata": {},
   "outputs": [],
   "source": []
  },
  {
   "cell_type": "code",
   "execution_count": null,
   "metadata": {},
   "outputs": [],
   "source": []
  },
  {
   "cell_type": "code",
   "execution_count": null,
   "metadata": {
    "lines_to_next_cell": 2
   },
   "outputs": [],
   "source": []
  }
 ],
 "metadata": {
  "jupytext": {
   "cell_metadata_filter": "all",
   "notebook_metadata_filter": "all,-language_info",
   "text_representation": {
    "extension": ".py",
    "format_name": "light",
    "format_version": "1.5",
    "jupytext_version": "1.13.0"
   }
  },
  "kernelspec": {
   "display_name": "Python 3",
   "language": "python",
   "name": "python3"
  },
  "language_info": {
   "codemirror_mode": {
    "name": "ipython",
    "version": 3
   },
   "file_extension": ".py",
   "mimetype": "text/x-python",
   "name": "python",
   "nbconvert_exporter": "python",
   "pygments_lexer": "ipython3",
   "version": "3.8.1"
  }
 },
 "nbformat": 4,
 "nbformat_minor": 4
}
